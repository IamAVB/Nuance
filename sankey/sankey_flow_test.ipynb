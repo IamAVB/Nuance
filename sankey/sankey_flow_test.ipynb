{
 "cells": [
  {
   "cell_type": "markdown",
   "metadata": {},
   "source": [
    "## test sankey_flow visualization with Titanic dataset"
   ]
  },
  {
   "cell_type": "code",
   "execution_count": 1,
   "metadata": {
    "collapsed": true
   },
   "outputs": [],
   "source": [
    "import pandas as pd\n",
    "import numpy as np"
   ]
  },
  {
   "cell_type": "markdown",
   "metadata": {},
   "source": [
    "## read data"
   ]
  },
  {
   "cell_type": "code",
   "execution_count": 2,
   "metadata": {},
   "outputs": [],
   "source": [
    "raw = pd.read_csv('data/titanic_train.csv')"
   ]
  },
  {
   "cell_type": "code",
   "execution_count": 3,
   "metadata": {},
   "outputs": [
    {
     "data": {
      "text/html": [
       "<div>\n",
       "<style>\n",
       "    .dataframe thead tr:only-child th {\n",
       "        text-align: right;\n",
       "    }\n",
       "\n",
       "    .dataframe thead th {\n",
       "        text-align: left;\n",
       "    }\n",
       "\n",
       "    .dataframe tbody tr th {\n",
       "        vertical-align: top;\n",
       "    }\n",
       "</style>\n",
       "<table border=\"1\" class=\"dataframe\">\n",
       "  <thead>\n",
       "    <tr style=\"text-align: right;\">\n",
       "      <th></th>\n",
       "      <th>PassengerId</th>\n",
       "      <th>Survived</th>\n",
       "      <th>Pclass</th>\n",
       "      <th>Name</th>\n",
       "      <th>Sex</th>\n",
       "      <th>Age</th>\n",
       "      <th>SibSp</th>\n",
       "      <th>Parch</th>\n",
       "      <th>Ticket</th>\n",
       "      <th>Fare</th>\n",
       "      <th>Cabin</th>\n",
       "      <th>Embarked</th>\n",
       "    </tr>\n",
       "  </thead>\n",
       "  <tbody>\n",
       "    <tr>\n",
       "      <th>0</th>\n",
       "      <td>1</td>\n",
       "      <td>0</td>\n",
       "      <td>3</td>\n",
       "      <td>Braund, Mr. Owen Harris</td>\n",
       "      <td>male</td>\n",
       "      <td>22.0</td>\n",
       "      <td>1</td>\n",
       "      <td>0</td>\n",
       "      <td>A/5 21171</td>\n",
       "      <td>7.2500</td>\n",
       "      <td>NaN</td>\n",
       "      <td>S</td>\n",
       "    </tr>\n",
       "    <tr>\n",
       "      <th>1</th>\n",
       "      <td>2</td>\n",
       "      <td>1</td>\n",
       "      <td>1</td>\n",
       "      <td>Cumings, Mrs. John Bradley (Florence Briggs Th...</td>\n",
       "      <td>female</td>\n",
       "      <td>38.0</td>\n",
       "      <td>1</td>\n",
       "      <td>0</td>\n",
       "      <td>PC 17599</td>\n",
       "      <td>71.2833</td>\n",
       "      <td>C85</td>\n",
       "      <td>C</td>\n",
       "    </tr>\n",
       "    <tr>\n",
       "      <th>2</th>\n",
       "      <td>3</td>\n",
       "      <td>1</td>\n",
       "      <td>3</td>\n",
       "      <td>Heikkinen, Miss. Laina</td>\n",
       "      <td>female</td>\n",
       "      <td>26.0</td>\n",
       "      <td>0</td>\n",
       "      <td>0</td>\n",
       "      <td>STON/O2. 3101282</td>\n",
       "      <td>7.9250</td>\n",
       "      <td>NaN</td>\n",
       "      <td>S</td>\n",
       "    </tr>\n",
       "    <tr>\n",
       "      <th>3</th>\n",
       "      <td>4</td>\n",
       "      <td>1</td>\n",
       "      <td>1</td>\n",
       "      <td>Futrelle, Mrs. Jacques Heath (Lily May Peel)</td>\n",
       "      <td>female</td>\n",
       "      <td>35.0</td>\n",
       "      <td>1</td>\n",
       "      <td>0</td>\n",
       "      <td>113803</td>\n",
       "      <td>53.1000</td>\n",
       "      <td>C123</td>\n",
       "      <td>S</td>\n",
       "    </tr>\n",
       "    <tr>\n",
       "      <th>4</th>\n",
       "      <td>5</td>\n",
       "      <td>0</td>\n",
       "      <td>3</td>\n",
       "      <td>Allen, Mr. William Henry</td>\n",
       "      <td>male</td>\n",
       "      <td>35.0</td>\n",
       "      <td>0</td>\n",
       "      <td>0</td>\n",
       "      <td>373450</td>\n",
       "      <td>8.0500</td>\n",
       "      <td>NaN</td>\n",
       "      <td>S</td>\n",
       "    </tr>\n",
       "  </tbody>\n",
       "</table>\n",
       "</div>"
      ],
      "text/plain": [
       "   PassengerId  Survived  Pclass  \\\n",
       "0            1         0       3   \n",
       "1            2         1       1   \n",
       "2            3         1       3   \n",
       "3            4         1       1   \n",
       "4            5         0       3   \n",
       "\n",
       "                                                Name     Sex   Age  SibSp  \\\n",
       "0                            Braund, Mr. Owen Harris    male  22.0      1   \n",
       "1  Cumings, Mrs. John Bradley (Florence Briggs Th...  female  38.0      1   \n",
       "2                             Heikkinen, Miss. Laina  female  26.0      0   \n",
       "3       Futrelle, Mrs. Jacques Heath (Lily May Peel)  female  35.0      1   \n",
       "4                           Allen, Mr. William Henry    male  35.0      0   \n",
       "\n",
       "   Parch            Ticket     Fare Cabin Embarked  \n",
       "0      0         A/5 21171   7.2500   NaN        S  \n",
       "1      0          PC 17599  71.2833   C85        C  \n",
       "2      0  STON/O2. 3101282   7.9250   NaN        S  \n",
       "3      0            113803  53.1000  C123        S  \n",
       "4      0            373450   8.0500   NaN        S  "
      ]
     },
     "execution_count": 3,
     "metadata": {},
     "output_type": "execute_result"
    }
   ],
   "source": [
    "raw.head()"
   ]
  },
  {
   "cell_type": "code",
   "execution_count": 4,
   "metadata": {},
   "outputs": [
    {
     "data": {
      "text/plain": [
       "array(['PassengerId', 'Survived', 'Pclass', 'Name', 'Sex', 'Age', 'SibSp',\n",
       "       'Parch', 'Ticket', 'Fare', 'Cabin', 'Embarked'], dtype=object)"
      ]
     },
     "execution_count": 4,
     "metadata": {},
     "output_type": "execute_result"
    }
   ],
   "source": [
    "raw.columns.values"
   ]
  },
  {
   "cell_type": "code",
   "execution_count": 5,
   "metadata": {},
   "outputs": [
    {
     "name": "stdout",
     "output_type": "stream",
     "text": [
      "Survived: [0 1]\n",
      "Pclass: [3 1 2]\n",
      "Sex: ['male' 'female']\n",
      "SibSp: [1 0 3 4 2 5 8]\n",
      "Parch: [0 1 2 5 3 4 6]\n",
      "Embarked: ['S' 'C' 'Q' nan]\n"
     ]
    }
   ],
   "source": [
    "# use these columns as layers of nodes\n",
    "use_cols = ['Survived', 'Pclass', 'Sex', 'SibSp', 'Parch', 'Embarked']\n",
    "for col in use_cols:\n",
    "    print '%s: %s' %(col, str(raw[col].unique()))"
   ]
  },
  {
   "cell_type": "code",
   "execution_count": 6,
   "metadata": {},
   "outputs": [],
   "source": [
    "raw['Embarked'] = raw['Embarked'].fillna('unknown')"
   ]
  },
  {
   "cell_type": "code",
   "execution_count": 7,
   "metadata": {},
   "outputs": [
    {
     "data": {
      "text/html": [
       "<div>\n",
       "<style>\n",
       "    .dataframe thead tr:only-child th {\n",
       "        text-align: right;\n",
       "    }\n",
       "\n",
       "    .dataframe thead th {\n",
       "        text-align: left;\n",
       "    }\n",
       "\n",
       "    .dataframe tbody tr th {\n",
       "        vertical-align: top;\n",
       "    }\n",
       "</style>\n",
       "<table border=\"1\" class=\"dataframe\">\n",
       "  <thead>\n",
       "    <tr style=\"text-align: right;\">\n",
       "      <th></th>\n",
       "      <th>Survived</th>\n",
       "      <th>Pclass</th>\n",
       "      <th>Sex</th>\n",
       "      <th>SibSp</th>\n",
       "      <th>Parch</th>\n",
       "      <th>Embarked</th>\n",
       "    </tr>\n",
       "  </thead>\n",
       "  <tbody>\n",
       "    <tr>\n",
       "      <th>0</th>\n",
       "      <td>0</td>\n",
       "      <td>3</td>\n",
       "      <td>male</td>\n",
       "      <td>1</td>\n",
       "      <td>0</td>\n",
       "      <td>S</td>\n",
       "    </tr>\n",
       "    <tr>\n",
       "      <th>1</th>\n",
       "      <td>1</td>\n",
       "      <td>1</td>\n",
       "      <td>female</td>\n",
       "      <td>1</td>\n",
       "      <td>0</td>\n",
       "      <td>C</td>\n",
       "    </tr>\n",
       "    <tr>\n",
       "      <th>2</th>\n",
       "      <td>1</td>\n",
       "      <td>3</td>\n",
       "      <td>female</td>\n",
       "      <td>0</td>\n",
       "      <td>0</td>\n",
       "      <td>S</td>\n",
       "    </tr>\n",
       "    <tr>\n",
       "      <th>3</th>\n",
       "      <td>1</td>\n",
       "      <td>1</td>\n",
       "      <td>female</td>\n",
       "      <td>1</td>\n",
       "      <td>0</td>\n",
       "      <td>S</td>\n",
       "    </tr>\n",
       "    <tr>\n",
       "      <th>4</th>\n",
       "      <td>0</td>\n",
       "      <td>3</td>\n",
       "      <td>male</td>\n",
       "      <td>0</td>\n",
       "      <td>0</td>\n",
       "      <td>S</td>\n",
       "    </tr>\n",
       "  </tbody>\n",
       "</table>\n",
       "</div>"
      ],
      "text/plain": [
       "   Survived  Pclass     Sex  SibSp  Parch Embarked\n",
       "0         0       3    male      1      0        S\n",
       "1         1       1  female      1      0        C\n",
       "2         1       3  female      0      0        S\n",
       "3         1       1  female      1      0        S\n",
       "4         0       3    male      0      0        S"
      ]
     },
     "execution_count": 7,
     "metadata": {},
     "output_type": "execute_result"
    }
   ],
   "source": [
    "raw[use_cols].head()"
   ]
  },
  {
   "cell_type": "markdown",
   "metadata": {},
   "source": [
    "## color strategy\n",
    "**node_color_type**, default=\"col_val\"  \n",
    "Can be ['col', 'val', 'col_val', 'cus']\n",
    "- 'col': each column has different color\n",
    "- 'val': each unique value has different color (unique values through all columns)\n",
    "- 'col_val': each unique value in each column has different color\n",
    "- 'cus': customer provide node color mapping\n",
    "\n",
    "**node_color_mapping**, default=None  \n",
    "Customized color mapping.\n",
    "- node_color_mapping = '#fff'  \n",
    "All nodes have the same color\n",
    "- node_color_mapping = dict()  \n",
    "```python\n",
    "node_color_mapping = {\n",
    "    # nodes in same column will have the same color\n",
    "    column_name1: '#fff'\n",
    "    \n",
    "    # each unique value in a column has its own color\n",
    "    column_name2: {value1: '#fff', value2: '#ccc', ...}\n",
    "}\n",
    "```\n",
    "\n",
    "**link_color_type**, default='source'  \n",
    "Can be ['source', 'target', 'both', 'same']\n",
    "- 'source': same color as the source node\n",
    "- 'target': same color as the target node\n",
    "- 'both': color from both target and source\n",
    "- 'same': all links have same color\n",
    "\n",
    "**link_color**, default=None  \n",
    "Only required when `link_color_type=\"same\"`"
   ]
  },
  {
   "cell_type": "code",
   "execution_count": 8,
   "metadata": {},
   "outputs": [],
   "source": [
    "import generate_sankey_flow"
   ]
  },
  {
   "cell_type": "code",
   "execution_count": 16,
   "metadata": {},
   "outputs": [],
   "source": [
    "node_color_mapping = {\n",
    "    'Survived': {0: '#111', 1: '#222'}, \n",
    "    'Pclass': '#333', \n",
    "    'Sex': {'female': '#444', 'male': '#555'}, \n",
    "    'SibSp': '#666', \n",
    "    'Parch': '#777', \n",
    "    'Embarked': '#888'\n",
    "}"
   ]
  },
  {
   "cell_type": "code",
   "execution_count": 19,
   "metadata": {},
   "outputs": [],
   "source": [
    "generate_sankey_flow.draw_sankey_flow(df=raw[use_cols], node_color_type='col', link_color_type='source', \n",
    "                                      width=1600, height=900, graph_name='Titanic', \n",
    "                                      node_color_mapping=None, color_map=None, link_color=None)"
   ]
  },
  {
   "cell_type": "code",
   "execution_count": 13,
   "metadata": {},
   "outputs": [],
   "source": [
    "df = raw[use_cols]\n",
    "node_color_type = 'col_val'\n",
    "link_color_type = 'source'\n",
    "width = 1600\n",
    "height = 1000\n",
    "graph_name='Titanic'\n",
    "node_color_mapping=None\n",
    "color_map=None\n",
    "link_color=None\n",
    "\n",
    "\n",
    "# get node infos\n",
    "node_infos = _get_node_names(df)\n",
    "\n",
    "# get node colors\n",
    "try:\n",
    "    cm = plt.cm.get_cmap(color_map)\n",
    "except:\n",
    "    cm = plt.cm.get_cmap('Vega20')\n",
    "\n",
    "node_colors = _get_node_colors(node_infos, node_color_type, node_color_mapping, cm)\n",
    "\n",
    "# prepare data for sankey\n",
    "sankey_data = _prepare_sankey_data(df, node_colors)\n",
    "\n",
    "# render the output\n",
    "temp = open('sankey_flow_template.html').read()\n",
    "template = jinja2.Template(temp)\n",
    "\n",
    "# generate output html\n",
    "if graph_name is None:\n",
    "    output_path = 'sankey_flow_output.html'\n",
    "else:\n",
    "    output_path = 'sankey_flow_output_%s.html' %(graph_name)\n",
    "with open(output_path, 'wb') as fh:\n",
    "    fh.write(template.render({'data': json.dumps(sankey_data), 'link_color_type': link_color_type, 'link_color': link_color, \n",
    "                              'width': width, 'height': height}))\n",
    "    print('The output is in %s. Enjoy!' %(output_path))"
   ]
  },
  {
   "cell_type": "markdown",
   "metadata": {},
   "source": [
    "### get node names"
   ]
  },
  {
   "cell_type": "code",
   "execution_count": 14,
   "metadata": {},
   "outputs": [],
   "source": [
    "node_infos = {}\n",
    "use_cols = ['Survived', 'Pclass', 'Sex', 'SibSp', 'Parch', 'Embarked']\n",
    "for col in use_cols:\n",
    "    col_values = sorted(raw[col].unique())\n",
    "    col_names = []\n",
    "    for col_value in col_values:\n",
    "        node_name = '%s: %s' %(col, str(col_value))\n",
    "        col_names.append(node_name)\n",
    "    node_infos[col] = {'col_names': col_names, 'col_values': col_values}"
   ]
  },
  {
   "cell_type": "code",
   "execution_count": 15,
   "metadata": {},
   "outputs": [
    {
     "data": {
      "text/plain": [
       "{'Embarked': {'col_names': ['Embarked: C',\n",
       "   'Embarked: Q',\n",
       "   'Embarked: S',\n",
       "   'Embarked: unknown'],\n",
       "  'col_values': ['C', 'Q', 'S', 'unknown']},\n",
       " 'Parch': {'col_names': ['Parch: 0',\n",
       "   'Parch: 1',\n",
       "   'Parch: 2',\n",
       "   'Parch: 3',\n",
       "   'Parch: 4',\n",
       "   'Parch: 5',\n",
       "   'Parch: 6'],\n",
       "  'col_values': [0, 1, 2, 3, 4, 5, 6]},\n",
       " 'Pclass': {'col_names': ['Pclass: 1', 'Pclass: 2', 'Pclass: 3'],\n",
       "  'col_values': [1, 2, 3]},\n",
       " 'Sex': {'col_names': ['Sex: female', 'Sex: male'],\n",
       "  'col_values': ['female', 'male']},\n",
       " 'SibSp': {'col_names': ['SibSp: 0',\n",
       "   'SibSp: 1',\n",
       "   'SibSp: 2',\n",
       "   'SibSp: 3',\n",
       "   'SibSp: 4',\n",
       "   'SibSp: 5',\n",
       "   'SibSp: 8'],\n",
       "  'col_values': [0, 1, 2, 3, 4, 5, 8]},\n",
       " 'Survived': {'col_names': ['Survived: 0', 'Survived: 1'],\n",
       "  'col_values': [0, 1]}}"
      ]
     },
     "execution_count": 15,
     "metadata": {},
     "output_type": "execute_result"
    }
   ],
   "source": [
    "node_infos"
   ]
  },
  {
   "cell_type": "markdown",
   "metadata": {},
   "source": [
    "### create node_colors dictionary"
   ]
  },
  {
   "cell_type": "code",
   "execution_count": 12,
   "metadata": {},
   "outputs": [],
   "source": [
    "import matplotlib.pyplot as plt\n",
    "import matplotlib"
   ]
  },
  {
   "cell_type": "code",
   "execution_count": 10,
   "metadata": {},
   "outputs": [],
   "source": [
    "node_color_type = 'col_val'\n",
    "\n",
    "node_color_mapping = {\n",
    "    'Survived': {0: '#111', 1: '#222'}, \n",
    "    'Pclass': '#333', \n",
    "    'Sex': {'female': '#444', 'male': '#555'}, \n",
    "    'SibSp': '#666', \n",
    "    'Parch': '#777', \n",
    "    'Embarked': '#888'\n",
    "}"
   ]
  },
  {
   "cell_type": "code",
   "execution_count": 16,
   "metadata": {},
   "outputs": [],
   "source": [
    "node_colors = {}\n",
    "cm = plt.cm.get_cmap('Vega20')\n",
    "\n",
    "if node_color_type == 'col':\n",
    "    for col_idx, col in enumerate(node_infos.keys()):\n",
    "        col_color = cm(col_idx % 20)\n",
    "        for col_name in node_infos[col]['col_names']:\n",
    "            node_colors[col_name] = matplotlib.colors.rgb2hex(col_color)\n",
    "            \n",
    "if node_color_type == 'val':\n",
    "    unique_values = []\n",
    "    for col in node_infos.keys():\n",
    "        unique_values += list(node_infos[col]['col_values'])\n",
    "    unique_values = list(set(unique_values))\n",
    "    for col in node_infos.keys():\n",
    "        for col_value in node_infos[col]['col_values']:\n",
    "            val_idx = unique_values.index(col_value)\n",
    "            node_colors['%s: %s' %(col, str(col_value))] = matplotlib.colors.rgb2hex(cm(val_idx % 20))\n",
    "            \n",
    "if node_color_type == 'col_val':\n",
    "    node_names = []\n",
    "    for col in node_infos.keys():\n",
    "        node_names += node_infos[col]['col_names']\n",
    "    for node_name_idx, node_name in enumerate(node_names):\n",
    "        node_colors[node_name] = matplotlib.colors.rgb2hex(cm(node_name_idx % 20))\n",
    "        \n",
    "if node_color_type == 'cus':\n",
    "    for col in node_color_mapping.keys():\n",
    "        if type(node_color_mapping[col]) == dict:\n",
    "            for col_val in node_color_mapping[col].keys():\n",
    "                node_colors['%s: %s' %(col, str(col_val))] = node_color_mapping[col][col_val]\n",
    "        else:\n",
    "            for col_name in node_infos[col]['col_names']:\n",
    "                node_colors[col_name] = node_color_mapping[col]"
   ]
  },
  {
   "cell_type": "code",
   "execution_count": 17,
   "metadata": {},
   "outputs": [
    {
     "data": {
      "text/plain": [
       "{'Embarked: C': u'#1f77b4',\n",
       " 'Embarked: Q': u'#aec7e8',\n",
       " 'Embarked: S': u'#ff7f0e',\n",
       " 'Embarked: unknown': u'#ffbb78',\n",
       " 'Parch: 0': u'#2ca02c',\n",
       " 'Parch: 1': u'#98df8a',\n",
       " 'Parch: 2': u'#d62728',\n",
       " 'Parch: 3': u'#ff9896',\n",
       " 'Parch: 4': u'#9467bd',\n",
       " 'Parch: 5': u'#c5b0d5',\n",
       " 'Parch: 6': u'#8c564b',\n",
       " 'Pclass: 1': u'#c49c94',\n",
       " 'Pclass: 2': u'#e377c2',\n",
       " 'Pclass: 3': u'#f7b6d2',\n",
       " 'Sex: female': u'#7f7f7f',\n",
       " 'Sex: male': u'#c7c7c7',\n",
       " 'SibSp: 0': u'#17becf',\n",
       " 'SibSp: 1': u'#9edae5',\n",
       " 'SibSp: 2': u'#1f77b4',\n",
       " 'SibSp: 3': u'#aec7e8',\n",
       " 'SibSp: 4': u'#ff7f0e',\n",
       " 'SibSp: 5': u'#ffbb78',\n",
       " 'SibSp: 8': u'#2ca02c',\n",
       " 'Survived: 0': u'#bcbd22',\n",
       " 'Survived: 1': u'#dbdb8d'}"
      ]
     },
     "execution_count": 17,
     "metadata": {},
     "output_type": "execute_result"
    }
   ],
   "source": [
    "node_colors"
   ]
  },
  {
   "cell_type": "markdown",
   "metadata": {},
   "source": [
    "## get links and nodes"
   ]
  },
  {
   "cell_type": "code",
   "execution_count": null,
   "metadata": {},
   "outputs": [],
   "source": [
    "links = []\n",
    "nodes = []\n",
    "for i in range(len(use_cols)-1):\n",
    "    source_col, target_col = use_cols[i], use_cols[i+1]\n",
    "    temp_df = raw[[source_col, target_col]]\n",
    "    temp_df['count'] = 1\n",
    "    temp_df = temp_df.rename(columns={source_col: 'source', target_col: 'target'})\n",
    "    temp_df_gp = temp_df.groupby(['source', 'target'], as_index=False).count()\n",
    "    \n",
    "    temp_df_gp['source'] = temp_df_gp['source'].apply(lambda x : '%s: %s' %(source_col, str(x)))\n",
    "    temp_df_gp['target'] = temp_df_gp['target'].apply(lambda x : '%s: %s' %(target_col, str(x)))\n",
    "    \n",
    "    temp_df_gp['color_source'] = temp_df_gp['source'].apply(lambda x : node_colors[x] if x in node_colors.keys() else '#000')\n",
    "    temp_df_gp['color_target'] = temp_df_gp['target'].apply(lambda x : node_colors[x] if x in node_colors.keys() else '#000')\n",
    "    temp_df_gp['value'] = temp_df_gp['count'].map(str)\n",
    "    \n",
    "    links+= temp_df_gp[['source', 'target', 'value']].to_dict('records')\n",
    "\n",
    "nodes = [{'name': n, 'color': c} for (n, c) in node_colors.items()]"
   ]
  },
  {
   "cell_type": "markdown",
   "metadata": {},
   "source": [
    "## render output"
   ]
  },
  {
   "cell_type": "code",
   "execution_count": null,
   "metadata": {
    "collapsed": true
   },
   "outputs": [],
   "source": [
    "data = {\n",
    "    'links': links,\n",
    "    'nodes': nodes\n",
    "}\n",
    "\n",
    "link_color_type = \"same\"\n",
    "link_color = '#ccc'"
   ]
  },
  {
   "cell_type": "code",
   "execution_count": null,
   "metadata": {},
   "outputs": [],
   "source": [
    "import json\n",
    "import jinja2\n",
    "\n",
    "import sys\n",
    "reload(sys)\n",
    "sys.setdefaultencoding('utf-8')"
   ]
  },
  {
   "cell_type": "code",
   "execution_count": null,
   "metadata": {},
   "outputs": [],
   "source": [
    "temp = open('sankey_path_template.html').read()\n",
    "template = jinja2.Template(temp)\n",
    "\n",
    "# generate output html\n",
    "with open('sankey_path_test.html', 'wb') as fh:\n",
    "    fh.write(template.render({'data': json.dumps(data), 'link_color_type': link_color_type, 'link_color': link_color, \n",
    "                              'width': 1600, 'height': 900}))"
   ]
  },
  {
   "cell_type": "code",
   "execution_count": null,
   "metadata": {},
   "outputs": [],
   "source": []
  }
 ],
 "metadata": {
  "anaconda-cloud": {},
  "kernelspec": {
   "display_name": "Python 2",
   "language": "python",
   "name": "python2"
  },
  "language_info": {
   "codemirror_mode": {
    "name": "ipython",
    "version": 2
   },
   "file_extension": ".py",
   "mimetype": "text/x-python",
   "name": "python",
   "nbconvert_exporter": "python",
   "pygments_lexer": "ipython2",
   "version": "2.7.13"
  }
 },
 "nbformat": 4,
 "nbformat_minor": 2
}
