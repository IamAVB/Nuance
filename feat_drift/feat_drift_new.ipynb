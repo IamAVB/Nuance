{
 "cells": [
  {
   "cell_type": "code",
   "execution_count": 1,
   "metadata": {},
   "outputs": [],
   "source": [
    "import pandas as pd\n",
    "import numpy as np\n",
    "import jinja2"
   ]
  },
  {
   "cell_type": "code",
   "execution_count": 2,
   "metadata": {},
   "outputs": [],
   "source": [
    "feat_imp1 = pd.read_csv('feature_imp1.csv')\n",
    "feat_imp2 = pd.read_csv('feature_imp2.csv')"
   ]
  },
  {
   "cell_type": "code",
   "execution_count": 3,
   "metadata": {},
   "outputs": [],
   "source": [
    "color_red = '#d53e4f'\n",
    "color_dark_red = '#67000d'\n",
    "color_green = '#66c2a5'\n",
    "color_dark_green = '#00441b'\n",
    "color_gray = '#969696'\n",
    "color_dark_gray = '#525252'\n",
    "color_blue = '#74a9cf'\n",
    "color_dark_blue = '#08306b'\n",
    "\n",
    "def _process_imp(imp_df, imp_name):\n",
    "    imp_df = imp_df.sort_values(by=imp_name, ascending=False).reset_index(drop=True)\n",
    "    imp_df['relative_imp'] = imp_df[imp_name] * 1.0 / imp_df[imp_name].max()\n",
    "    imp_df['relative_imp'] = imp_df['relative_imp'].apply(lambda x : round(x, 3))\n",
    "    imp_df['feat_rank'] = imp_df.index.values + 1\n",
    "    return imp_df\n",
    "\n",
    "def _rank2color(x):\n",
    "    if x['feat_rank_x'] < x['feat_rank_y']:\n",
    "        return color_red\n",
    "    if x['feat_rank_x'] >= x['feat_rank_y']:\n",
    "        return color_green\n",
    "    if pd.isnull(x['feat_rank_y']):\n",
    "        return color_gray\n",
    "    if pd.isnull(x['feat_rank_x']):\n",
    "        return color_blue\n",
    "    \n",
    "def _rank2fontcolor(x):\n",
    "    if x['feat_rank_x'] < x['feat_rank_y']:\n",
    "        return color_dark_red\n",
    "    if x['feat_rank_x'] >= x['feat_rank_y']:\n",
    "        return color_dark_green\n",
    "    if pd.isnull(x['feat_rank_y']):\n",
    "        return color_dark_gray\n",
    "    if pd.isnull(x['feat_rank_x']):\n",
    "        return color_dark_blue\n",
    "    \n",
    "def _get_mark(x):\n",
    "    if pd.isnull(x['feat_rank_y']) or pd.isnull(x['feat_rank_x']):\n",
    "        return \"0\"\n",
    "    else:\n",
    "        return \"1\"\n",
    "    \n",
    "def _merge_feat_imp(imp_df1, imp_df2, feature_name, top_n):\n",
    "    imp_df1['pos'] = 'left'\n",
    "    imp_df2['pos'] = 'right'\n",
    "    if top_n:\n",
    "        both_imp = imp_df1.head(top_n).merge(imp_df2.head(top_n), on=feature_name, how='outer')\n",
    "    else:\n",
    "        both_imp = imp_df1.merge(imp_df2, on=feature_name, how='outer')\n",
    "        \n",
    "    both_imp['bar_color'] = both_imp.apply(lambda x : _rank2color(x), axis=1)\n",
    "    both_imp['font_color'] = both_imp.apply(lambda x : _rank2fontcolor(x), axis=1)\n",
    "    both_imp['bar_mark'] = both_imp.apply(lambda x : _get_mark(x), axis=1)\n",
    "    \n",
    "    return both_imp"
   ]
  },
  {
   "cell_type": "code",
   "execution_count": 46,
   "metadata": {},
   "outputs": [],
   "source": [
    "def feature_drift_graph(feat_imp1, feat_imp2, feature_name, imp_name, ds_name1, ds_name2, \n",
    "                        top_n=None, max_bar_width=300, bar_height=30, middle_gap=300, fontsize=12):\n",
    "    feat_imp1 = _process_imp(feat_imp1, imp_name)\n",
    "    feat_imp2 = _process_imp(feat_imp2, imp_name)\n",
    "    \n",
    "    both_imp = _merge_feat_imp(feat_imp1, feat_imp2, feature_name, top_n)\n",
    "    \n",
    "    bar_left_data = both_imp[['feat_name', 'relative_imp_x', 'pos_x', 'bar_color', 'font_color', 'bar_mark']\n",
    "                            ].dropna().sort_values('relative_imp_x', ascending=False)\n",
    "    bar_left_data.columns = [col.replace('_x', '') for col in bar_left_data.columns.values]\n",
    "\n",
    "    bar_right_data = both_imp[['feat_name', 'relative_imp_y', 'pos_y', 'bar_color', 'font_color', 'bar_mark']\n",
    "                             ].dropna().sort_values('relative_imp_y', ascending=False)\n",
    "    bar_right_data.columns = [col.replace('_y', '') for col in bar_right_data.columns.values]\n",
    "\n",
    "    line_data = both_imp[['feat_name', 'bar_color', 'feat_rank_x', 'feat_rank_y']].dropna()[['feat_name', 'bar_color']]\n",
    "    \n",
    "    legend_data = [\n",
    "        {'name': 'Drop', 'color': color_red},\n",
    "        {'name': 'Up & Stable', 'color': color_green},\n",
    "        {'name': 'Disappear', 'color': color_gray},\n",
    "        {'name': 'Appear', 'color': color_blue}\n",
    "    ]\n",
    "    \n",
    "    # render the output\n",
    "    temp = open('feature_drift_template.html').read()\n",
    "    template = jinja2.Template(temp)\n",
    "\n",
    "    with open('feature_drift_gan.html', 'wb') as fh:\n",
    "        fh.write(template.render({'bar_left_data': bar_left_data.to_dict('records'), \n",
    "                                  'bar_right_data': bar_right_data.to_dict('records'), \n",
    "                                  'line_data': line_data.to_dict('records'), \n",
    "                                  'legend_data': legend_data, \n",
    "                                  'max_bar_width': max_bar_width, 'bar_height': bar_height, \n",
    "                                  'middle_gap': middle_gap, 'fontsize': fontsize,\n",
    "                                  'ds_name1': ds_name1, 'ds_name2': ds_name2}))"
   ]
  },
  {
   "cell_type": "code",
   "execution_count": 48,
   "metadata": {},
   "outputs": [],
   "source": [
    "feature_drift_graph(feat_imp1, feat_imp2, 'feat_name', 'imp', 'train', 'test', \n",
    "                    top_n=25, max_bar_width=300, bar_height=30, middle_gap=300, fontsize=12)"
   ]
  },
  {
   "cell_type": "code",
   "execution_count": null,
   "metadata": {},
   "outputs": [],
   "source": []
  }
 ],
 "metadata": {
  "kernelspec": {
   "display_name": "Python 2",
   "language": "python",
   "name": "python2"
  },
  "language_info": {
   "codemirror_mode": {
    "name": "ipython",
    "version": 2
   },
   "file_extension": ".py",
   "mimetype": "text/x-python",
   "name": "python",
   "nbconvert_exporter": "python",
   "pygments_lexer": "ipython2",
   "version": "2.7.14"
  }
 },
 "nbformat": 4,
 "nbformat_minor": 2
}
