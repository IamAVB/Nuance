{
 "cells": [
  {
   "cell_type": "code",
   "execution_count": 1,
   "metadata": {},
   "outputs": [],
   "source": [
    "import pandas as pd\n",
    "import numpy as np\n",
    "\n",
    "import matplotlib.pyplot as plt\n",
    "import seaborn as sns\n",
    "%matplotlib inline"
   ]
  },
  {
   "cell_type": "code",
   "execution_count": 2,
   "metadata": {},
   "outputs": [],
   "source": [
    "feat_imp1 = pd.read_csv('feature_imp1.csv')\n",
    "feat_imp2 = pd.read_csv('feature_imp2.csv')"
   ]
  },
  {
   "cell_type": "code",
   "execution_count": 3,
   "metadata": {},
   "outputs": [],
   "source": [
    "def process_imp(df, imp_colname):\n",
    "    df = df.sort_values(by=imp_colname, ascending=False).reset_index(drop=True)\n",
    "    df['relative_imp'] = df[imp_colname] * 1.0 / df[imp_colname].max()\n",
    "    df['relative_imp'] = df['relative_imp'].apply(lambda x : round(x, 3))\n",
    "    df['feat_rank'] = df.index.values + 1\n",
    "    return df"
   ]
  },
  {
   "cell_type": "code",
   "execution_count": 4,
   "metadata": {},
   "outputs": [],
   "source": [
    "feat_imp1 = process_imp(feat_imp1, 'imp')\n",
    "feat_imp2 = process_imp(feat_imp2, 'imp')"
   ]
  },
  {
   "cell_type": "code",
   "execution_count": 24,
   "metadata": {},
   "outputs": [],
   "source": [
    "color_red = '#d53e4f'\n",
    "color_dark_red = '#67000d'\n",
    "color_green = '#66c2a5'\n",
    "color_dark_green = '#00441b'\n",
    "color_gray = '#969696'\n",
    "color_dark_gray = '#525252'\n",
    "color_blue = '#74a9cf'\n",
    "color_dark_blue = '#08306b'\n",
    "\n",
    "def rank2color(x):\n",
    "    if x['feat_rank_x'] < x['feat_rank_y']:\n",
    "        return color_red\n",
    "    if x['feat_rank_x'] >= x['feat_rank_y']:\n",
    "        return color_green\n",
    "    if pd.isnull(x['feat_rank_y']):\n",
    "        return color_gray\n",
    "    if pd.isnull(x['feat_rank_x']):\n",
    "        return color_blue\n",
    "    \n",
    "def rank2fontcolor(x):\n",
    "    if x['feat_rank_x'] < x['feat_rank_y']:\n",
    "        return color_dark_red\n",
    "    if x['feat_rank_x'] >= x['feat_rank_y']:\n",
    "        return color_dark_green\n",
    "    if pd.isnull(x['feat_rank_y']):\n",
    "        return color_dark_gray\n",
    "    if pd.isnull(x['feat_rank_x']):\n",
    "        return color_dark_blue\n",
    "    \n",
    "def get_mark(x):\n",
    "    if pd.isnull(x['feat_rank_y']) or pd.isnull(x['feat_rank_x']):\n",
    "        return \"0\"\n",
    "    else:\n",
    "        return \"1\"\n",
    "\n",
    "def merge_feat_imp(df1, df2, feat_colname, top_n=None):\n",
    "    df1['pos'] = 'left'\n",
    "    df2['pos'] = 'right'\n",
    "    if top_n:\n",
    "        both_imp = df1.head(20).merge(df2.head(20), on=feat_colname, how='outer')\n",
    "    else:\n",
    "        both_imp = df1.merge(df2, on=feat_colname, how='outer')\n",
    "        \n",
    "    both_imp['bar_color'] = both_imp.apply(lambda x : rank2color(x), axis=1)\n",
    "    both_imp['font_color'] = both_imp.apply(lambda x : rank2fontcolor(x), axis=1)\n",
    "    both_imp['bar_mark'] = both_imp.apply(lambda x : get_mark(x), axis=1)\n",
    "    \n",
    "    return both_imp"
   ]
  },
  {
   "cell_type": "code",
   "execution_count": 25,
   "metadata": {},
   "outputs": [],
   "source": [
    "top_n = 20\n",
    "both_imp = merge_feat_imp(feat_imp1, feat_imp2, 'feat_name', top_n=top_n)"
   ]
  },
  {
   "cell_type": "markdown",
   "metadata": {},
   "source": [
    "## prepare data for the graph"
   ]
  },
  {
   "cell_type": "code",
   "execution_count": 26,
   "metadata": {},
   "outputs": [
    {
     "data": {
      "text/plain": [
       "array(['feat_name', 'imp_x', 'relative_imp_x', 'feat_rank_x', 'pos_x',\n",
       "       'imp_y', 'relative_imp_y', 'feat_rank_y', 'pos_y', 'bar_color',\n",
       "       'font_color', 'bar_mark'], dtype=object)"
      ]
     },
     "execution_count": 26,
     "metadata": {},
     "output_type": "execute_result"
    }
   ],
   "source": [
    "both_imp.columns.values"
   ]
  },
  {
   "cell_type": "code",
   "execution_count": 28,
   "metadata": {},
   "outputs": [],
   "source": [
    "bar_left_data = both_imp[['feat_name', 'relative_imp_x', 'pos_x', 'bar_color', 'font_color', 'bar_mark']\n",
    "                        ].dropna().sort_values('relative_imp_x', ascending=False)\n",
    "bar_left_data.columns = [col.replace('_x', '') for col in bar_left_data.columns.values]\n",
    "\n",
    "bar_right_data = both_imp[['feat_name', 'relative_imp_y', 'pos_y', 'bar_color', 'font_color', 'bar_mark']\n",
    "                         ].dropna().sort_values('relative_imp_y', ascending=False)\n",
    "bar_right_data.columns = [col.replace('_y', '') for col in bar_right_data.columns.values]\n",
    "\n",
    "line_data = both_imp[['feat_name', 'bar_color', 'feat_rank_x', 'feat_rank_y']].dropna()[['feat_name', 'bar_color']]"
   ]
  },
  {
   "cell_type": "code",
   "execution_count": 29,
   "metadata": {},
   "outputs": [],
   "source": [
    "import json\n",
    "import jinja2"
   ]
  },
  {
   "cell_type": "code",
   "execution_count": 30,
   "metadata": {},
   "outputs": [],
   "source": [
    "# render the output\n",
    "temp = open('bar_chart_new.html').read()\n",
    "template = jinja2.Template(temp)\n",
    "\n",
    "with open('bar_chart_gan.html', 'wb') as fh:\n",
    "    fh.write(template.render({'bar_left_data': bar_left_data.to_dict('records'), \n",
    "                              'bar_right_data': bar_right_data.to_dict('records'), \n",
    "                              'line_data': line_data.to_dict('records')}))"
   ]
  },
  {
   "cell_type": "code",
   "execution_count": null,
   "metadata": {},
   "outputs": [],
   "source": []
  }
 ],
 "metadata": {
  "kernelspec": {
   "display_name": "Python 2",
   "language": "python",
   "name": "python2"
  },
  "language_info": {
   "codemirror_mode": {
    "name": "ipython",
    "version": 2
   },
   "file_extension": ".py",
   "mimetype": "text/x-python",
   "name": "python",
   "nbconvert_exporter": "python",
   "pygments_lexer": "ipython2",
   "version": "2.7.14"
  }
 },
 "nbformat": 4,
 "nbformat_minor": 2
}
